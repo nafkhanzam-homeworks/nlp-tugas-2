{
 "cells": [
  {
   "cell_type": "code",
   "execution_count": 1,
   "metadata": {},
   "outputs": [],
   "source": [
    "from nergrit_traditional_ml import NergritTraditionalML\n",
    "\n",
    "\n",
    "app = NergritTraditionalML()\n"
   ]
  },
  {
   "cell_type": "code",
   "execution_count": 2,
   "metadata": {},
   "outputs": [
    {
     "name": "stdout",
     "output_type": "stream",
     "text": [
      "saving result to cache '.cache/nergrit:train_df.pkl'\n",
      "saving result to cache '.cache/nergrit:validation_df.pkl'\n",
      "saving result to cache '.cache/nergrit:test_series.pkl'\n",
      "saving result to cache '.cache/nergrit:test_sentence_series.pkl'\n",
      "saving result to cache '.cache/nergrit:uncased_vocab_series.pkl'\n"
     ]
    }
   ],
   "source": [
    "app.init_data()"
   ]
  },
  {
   "cell_type": "code",
   "execution_count": 3,
   "metadata": {},
   "outputs": [
    {
     "name": "stdout",
     "output_type": "stream",
     "text": [
      "saving result to cache '.cache/nergrit:nb_X_train.pkl'\n"
     ]
    }
   ],
   "source": [
    "X_train = app.build_X_train()"
   ]
  },
  {
   "cell_type": "code",
   "execution_count": 4,
   "metadata": {},
   "outputs": [
    {
     "name": "stdout",
     "output_type": "stream",
     "text": [
      "Series([], Name: 12, dtype: int64) O 56211\n"
     ]
    }
   ],
   "source": [
    "y_train = app.get_y_train()\n",
    "i = 12\n",
    "row = X_train.iloc[i]\n",
    "print(row[row != 0], y_train[i], len(X_train))"
   ]
  },
  {
   "cell_type": "code",
   "execution_count": 5,
   "metadata": {},
   "outputs": [
    {
     "name": "stdout",
     "output_type": "stream",
     "text": [
      "using cached result from '.cache/nergrit:nb_X_train.pkl'\n",
      "saving result to cache '.cache/nergrit:nb_model.pkl'\n"
     ]
    }
   ],
   "source": [
    "model = app.build_naive_bayes_model()"
   ]
  },
  {
   "cell_type": "code",
   "execution_count": 6,
   "metadata": {},
   "outputs": [
    {
     "name": "stdout",
     "output_type": "stream",
     "text": [
      "saving result to cache '.cache/nergrit:nb_X_validation.pkl'\n"
     ]
    }
   ],
   "source": [
    "X_validation = app.build_X_validation()"
   ]
  },
  {
   "cell_type": "code",
   "execution_count": 14,
   "metadata": {},
   "outputs": [
    {
     "name": "stdout",
     "output_type": "stream",
     "text": [
      "4077 6983\n",
      "1262 6983\n"
     ]
    }
   ],
   "source": [
    "y_pred = model.predict(X_validation)\n",
    "y_validation = app.get_y_validation()\n",
    "print(len(y_pred[y_pred != 'O']), len(y_pred))\n",
    "print(len(y_validation[y_validation != 'O']), len(y_validation))"
   ]
  },
  {
   "cell_type": "code",
   "execution_count": 15,
   "metadata": {},
   "outputs": [
    {
     "name": "stdout",
     "output_type": "stream",
     "text": [
      "precision 0.39250661948208737\n",
      "recall 0.45919375848243804\n",
      "fscore 0.3302359713386384\n"
     ]
    }
   ],
   "source": [
    "from sklearn.metrics import precision_recall_fscore_support as score\n",
    "\n",
    "precision, recall, fscore, _ = score(y_validation, y_pred, average='macro')\n",
    "\n",
    "print('precision', precision)\n",
    "print('recall', recall)\n",
    "print('fscore', fscore)"
   ]
  },
  {
   "cell_type": "code",
   "execution_count": 9,
   "metadata": {},
   "outputs": [
    {
     "data": {
      "text/plain": [
       "56211"
      ]
     },
     "execution_count": 9,
     "metadata": {},
     "output_type": "execute_result"
    }
   ],
   "source": [
    "len(y_validation)"
   ]
  },
  {
   "cell_type": "code",
   "execution_count": 10,
   "metadata": {},
   "outputs": [],
   "source": [
    "y_test_preds = []\n",
    "\n",
    "for X_test in app.build_X_sentences_test_iter():\n",
    "    next_pred = model.predict(X_test)\n",
    "    y_test_preds.append(next_pred)"
   ]
  },
  {
   "cell_type": "code",
   "execution_count": 13,
   "metadata": {},
   "outputs": [],
   "source": [
    "import pandas as pd\n",
    "import numpy as np\n",
    "np.set_string_function(lambda x: repr(list(x)), repr=False)\n",
    "np.set_printoptions(linewidth=np.inf)\n",
    "\n",
    "result_df = pd.DataFrame({'label': y_test_preds}).reset_index()\n",
    "result_df.to_csv('pred.txt', index=False)"
   ]
  },
  {
   "cell_type": "code",
   "execution_count": 19,
   "metadata": {},
   "outputs": [
    {
     "name": "stdout",
     "output_type": "stream",
     "text": [
      "using cached result from '.cache/nergrit:nb_model.pkl'\n"
     ]
    },
    {
     "data": {
      "text/plain": [
       "array(['B-PLACE'], dtype='<U14')"
      ]
     },
     "execution_count": 19,
     "metadata": {},
     "output_type": "execute_result"
    }
   ],
   "source": [
    "app.test_naive_bayes_model(['Dusun'])"
   ]
  }
 ],
 "metadata": {
  "interpreter": {
   "hash": "582de25ef4397959f951bb81f5b8f35d7973a3abc47c9dbb6cc90c83e78c3c34"
  },
  "kernelspec": {
   "display_name": "Python 3.8.11 ('base')",
   "language": "python",
   "name": "python3"
  },
  "language_info": {
   "codemirror_mode": {
    "name": "ipython",
    "version": 3
   },
   "file_extension": ".py",
   "mimetype": "text/x-python",
   "name": "python",
   "nbconvert_exporter": "python",
   "pygments_lexer": "ipython3",
   "version": "3.8.11"
  },
  "orig_nbformat": 4
 },
 "nbformat": 4,
 "nbformat_minor": 2
}
