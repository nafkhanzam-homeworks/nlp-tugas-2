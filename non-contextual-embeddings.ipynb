{
 "cells": [
  {
   "cell_type": "code",
   "execution_count": 1,
   "metadata": {},
   "outputs": [],
   "source": [
    "def read_documents(file_path: str):\n",
    "    documents = []\n",
    "    sentence = []\n",
    "    with open(file_path, 'r') as f:\n",
    "        for line in f.readlines():\n",
    "            if '\\t' in line:\n",
    "                line = line[:-1]\n",
    "                word, label = line.split('\\t')\n",
    "                # We ignore case\n",
    "                word = word.lower()\n",
    "                sentence.append((word, label))\n",
    "            else:\n",
    "                documents.append(sentence)\n",
    "                sentence = []\n",
    "    if len(sentence) > 0:\n",
    "        documents.append(sentence)\n",
    "    return documents\n",
    "\n",
    "def convert_to_array(documents):\n",
    "    X = []\n",
    "    y = []\n",
    "    for sentence in documents:\n",
    "        X_sentence = []\n",
    "        y_sentence = []\n",
    "        for word, label in sentence:\n",
    "            X_sentence.append(word)\n",
    "            y_sentence.append(label)\n",
    "        X.append(X_sentence)\n",
    "        y.append(y_sentence)\n",
    "\n",
    "    return X, y\n"
   ]
  },
  {
   "cell_type": "code",
   "execution_count": 2,
   "metadata": {},
   "outputs": [],
   "source": [
    "train_documents = read_documents('dataset/nergrit_ner-grit/train_preprocess.txt')\n",
    "validation_documents = read_documents('dataset/nergrit_ner-grit/valid_preprocess.txt')\n",
    "test_documents = read_documents('dataset/nergrit_ner-grit/test_preprocess_masked_label.txt')"
   ]
  },
  {
   "cell_type": "code",
   "execution_count": 3,
   "metadata": {},
   "outputs": [],
   "source": [
    "X_train, y_train = convert_to_array(train_documents)\n",
    "X_validation, y_validation = convert_to_array(validation_documents)\n",
    "X_test, y_test = convert_to_array(test_documents)"
   ]
  },
  {
   "cell_type": "code",
   "execution_count": 4,
   "metadata": {},
   "outputs": [],
   "source": [
    "from tensorflow.keras.preprocessing.text import Tokenizer\n",
    "\n",
    "def build_tokenizer(X):\n",
    "    tokenizer = Tokenizer()\n",
    "    tokenizer.fit_on_texts(X)\n",
    "    return tokenizer"
   ]
  },
  {
   "cell_type": "code",
   "execution_count": 5,
   "metadata": {},
   "outputs": [],
   "source": [
    "word_tokenizer = build_tokenizer(X_train + X_validation + X_test)\n",
    "label_tokenizer = build_tokenizer(y_train)"
   ]
  },
  {
   "cell_type": "code",
   "execution_count": 6,
   "metadata": {},
   "outputs": [],
   "source": [
    "X_train_encoded = word_tokenizer.texts_to_sequences(X_train)\n",
    "y_train_encoded = label_tokenizer.texts_to_sequences(y_train)\n",
    "\n",
    "X_validation_encoded = word_tokenizer.texts_to_sequences(X_validation)\n",
    "y_validation_encoded = label_tokenizer.texts_to_sequences(y_validation)\n",
    "\n",
    "X_test_encoded = word_tokenizer.texts_to_sequences(X_test)\n",
    "y_test_encoded = label_tokenizer.texts_to_sequences(y_test)"
   ]
  },
  {
   "cell_type": "code",
   "execution_count": 7,
   "metadata": {},
   "outputs": [],
   "source": [
    "from tensorflow.keras.preprocessing.sequence import pad_sequences\n",
    "\n",
    "MAX_SEQ_LENGTH = max([len(x) for x in train_documents])\n",
    "\n",
    "def pad_sequence_fn(arr):\n",
    "    return pad_sequences(arr, maxlen=MAX_SEQ_LENGTH, padding=\"pre\", truncating=\"post\")"
   ]
  },
  {
   "cell_type": "code",
   "execution_count": 8,
   "metadata": {},
   "outputs": [],
   "source": [
    "X_train_padded = pad_sequence_fn(X_train_encoded)\n",
    "y_train_padded = pad_sequence_fn(y_train_encoded)\n",
    "\n",
    "X_validation_padded = pad_sequence_fn(X_validation_encoded)\n",
    "y_validation_padded = pad_sequence_fn(y_validation_encoded)\n",
    "\n",
    "X_test_padded = pad_sequence_fn(X_test_encoded)\n",
    "y_test_padded = pad_sequence_fn(y_test_encoded)"
   ]
  },
  {
   "cell_type": "code",
   "execution_count": 9,
   "metadata": {},
   "outputs": [],
   "source": [
    "# user pretrained word2vec model\n",
    "# https://github.com/deryrahman/word2vec-bahasa-indonesia\n",
    "\n",
    "import gensim\n",
    "\n",
    "path = 'idwiki_word2vec_100.model'\n",
    "word2vec = gensim.models.word2vec.Word2Vec.load(path)"
   ]
  },
  {
   "cell_type": "code",
   "execution_count": 10,
   "metadata": {},
   "outputs": [],
   "source": [
    "import numpy as np\n",
    "\n",
    "EMBEDDING_SIZE  = 100\n",
    "VOCABULARY_SIZE = len(word_tokenizer.word_index) + 1\n",
    "\n",
    "embedding_weights = np.zeros((VOCABULARY_SIZE, EMBEDDING_SIZE))\n",
    "\n",
    "for word, index in word_tokenizer.word_index.items():\n",
    "    try:\n",
    "        embedding_weights[index, :] = word2vec.wv[word]\n",
    "    except KeyError:\n",
    "        pass\n"
   ]
  },
  {
   "cell_type": "code",
   "execution_count": 11,
   "metadata": {},
   "outputs": [],
   "source": [
    "from tensorflow.keras.utils import to_categorical\n",
    "\n",
    "y_train_categorical = to_categorical(y_train_padded)\n",
    "y_validation_categorical = to_categorical(y_validation_padded)\n",
    "y_test_categorical = to_categorical(y_test_padded)"
   ]
  },
  {
   "cell_type": "code",
   "execution_count": 12,
   "metadata": {},
   "outputs": [],
   "source": [
    "import tensorflow.keras.backend as K\n",
    "\n",
    "def get_f1(y_true, y_pred): #taken from old keras source code\n",
    "    true_positives = K.sum(K.round(K.clip(y_true * y_pred, 0, 1)))\n",
    "    possible_positives = K.sum(K.round(K.clip(y_true, 0, 1)))\n",
    "    predicted_positives = K.sum(K.round(K.clip(y_pred, 0, 1)))\n",
    "    precision = true_positives / (predicted_positives + K.epsilon())\n",
    "    recall = true_positives / (possible_positives + K.epsilon())\n",
    "    f1_val = 2*(precision*recall)/(precision+recall+K.epsilon())\n",
    "    return f1_val"
   ]
  },
  {
   "cell_type": "code",
   "execution_count": 13,
   "metadata": {},
   "outputs": [
    {
     "name": "stdout",
     "output_type": "stream",
     "text": [
      "Model: \"sequential\"\n",
      "_________________________________________________________________\n",
      "Layer (type)                 Output Shape              Param #   \n",
      "=================================================================\n",
      "embedding (Embedding)        (None, 216, 100)          1170900   \n",
      "_________________________________________________________________\n",
      "simple_rnn (SimpleRNN)       (None, 216, 64)           10560     \n",
      "_________________________________________________________________\n",
      "time_distributed (TimeDistri (None, 216, 8)            520       \n",
      "=================================================================\n",
      "Total params: 1,181,980\n",
      "Trainable params: 11,080\n",
      "Non-trainable params: 1,170,900\n",
      "_________________________________________________________________\n"
     ]
    },
    {
     "name": "stderr",
     "output_type": "stream",
     "text": [
      "2022-03-27 21:05:37.143024: I tensorflow/core/platform/cpu_feature_guard.cc:142] This TensorFlow binary is optimized with oneAPI Deep Neural Network Library (oneDNN) to use the following CPU instructions in performance-critical operations:  SSE4.1 SSE4.2 AVX AVX2 FMA\n",
      "To enable them in other operations, rebuild TensorFlow with the appropriate compiler flags.\n",
      "2022-03-27 21:05:37.144338: I tensorflow/core/common_runtime/process_util.cc:146] Creating new thread pool with default inter op setting: 2. Tune using inter_op_parallelism_threads for best performance.\n"
     ]
    }
   ],
   "source": [
    "from tensorflow.keras.models import Sequential\n",
    "from tensorflow.keras.layers import Embedding, SimpleRNN, Dense, TimeDistributed\n",
    "\n",
    "\n",
    "# total number of tags\n",
    "NUM_CLASSES = y_train_categorical.shape[2]\n",
    "\n",
    "# create vanilla RNN architecture\n",
    "rnn_model = Sequential()\n",
    "rnn_model.add(\n",
    "    Embedding(\n",
    "        input_dim=VOCABULARY_SIZE, # vocabulary size - number of unique words in data\n",
    "        output_dim=EMBEDDING_SIZE, # length of vector with which each word is represented\n",
    "        input_length=MAX_SEQ_LENGTH, # length of input sequence\n",
    "        weights=[embedding_weights],\n",
    "        trainable=False, # False - don't update the embeddings\n",
    "    )\n",
    ")\n",
    "\n",
    "# add an RNN layer which contains 64 RNN cells\n",
    "rnn_model.add(SimpleRNN(64,\n",
    "    return_sequences=True  # True - return whole sequence; False - return single output of the end of the sequence\n",
    "))\n",
    "\n",
    "# add time distributed (output at each sequence) layer\n",
    "rnn_model.add(TimeDistributed(Dense(NUM_CLASSES, activation='softmax')))\n",
    "\n",
    "rnn_model.compile(\n",
    "    loss='categorical_crossentropy',\n",
    "    optimizer='adam',\n",
    "    metrics=[get_f1]),\n",
    "rnn_model.summary()\n"
   ]
  },
  {
   "cell_type": "code",
   "execution_count": 14,
   "metadata": {},
   "outputs": [
    {
     "name": "stderr",
     "output_type": "stream",
     "text": [
      "2022-03-27 21:05:37.720980: I tensorflow/compiler/mlir/mlir_graph_optimization_pass.cc:185] None of the MLIR Optimization Passes are enabled (registered 2)\n"
     ]
    },
    {
     "name": "stdout",
     "output_type": "stream",
     "text": [
      "1672/1672 [==============================] - 195s 116ms/step - loss: 0.1125 - get_f1: 0.9666 - val_loss: 0.0623 - val_get_f1: 0.9800\n"
     ]
    }
   ],
   "source": [
    "rnn_training = \\\n",
    "    rnn_model.fit(\n",
    "        X_train_padded,\n",
    "        y_train_categorical,\n",
    "        batch_size=1,\n",
    "        epochs=1,\n",
    "        validation_data=(X_validation_padded, y_validation_categorical),\n",
    "    )"
   ]
  },
  {
   "cell_type": "code",
   "execution_count": 15,
   "metadata": {},
   "outputs": [
    {
     "data": {
      "image/png": "[encoded data removed]",
      "text/plain": [
       "<Figure size 432x288 with 1 Axes>"
      ]
     },
     "metadata": {
      "needs_background": "light"
     },
     "output_type": "display_data"
    }
   ],
   "source": [
    "# visualise training history\n",
    "from matplotlib import pyplot as plt\n",
    "\n",
    "plt.plot(rnn_training.history['get_f1'])\n",
    "plt.plot(rnn_training.history['val_get_f1'])\n",
    "plt.title('model f1')\n",
    "plt.ylabel('f1')\n",
    "plt.xlabel('epoch')\n",
    "plt.legend(['train', 'test'], loc=\"lower right\")\n",
    "plt.show()"
   ]
  },
  {
   "cell_type": "code",
   "execution_count": 16,
   "metadata": {},
   "outputs": [
    {
     "name": "stderr",
     "output_type": "stream",
     "text": [
      "2022-03-27 21:08:54.887562: W tensorflow/python/util/util.cc:348] Sets are not currently considered sequences, but this may change in the future, so consider avoiding using them.\n"
     ]
    },
    {
     "name": "stdout",
     "output_type": "stream",
     "text": [
      "INFO:tensorflow:Assets written to: ./rnn.model/assets\n"
     ]
    }
   ],
   "source": [
    "# Save the model\n",
    "from tensorflow.keras.models import save_model\n",
    "\n",
    "filepath = './rnn.model'\n",
    "save_model(rnn_model, filepath)"
   ]
  },
  {
   "cell_type": "code",
   "execution_count": 17,
   "metadata": {},
   "outputs": [],
   "source": [
    "def invert_labels(preds):\n",
    "    labels = []\n",
    "\n",
    "    i2label_dict = dict(label_tokenizer.index_word)\n",
    "    i2label_dict[0] = '-'\n",
    "    for j, sentence in enumerate(preds):\n",
    "        label = []\n",
    "        for w_label in sentence:\n",
    "            max = -1\n",
    "            maxi = 0\n",
    "            for i, labelval in enumerate(w_label):\n",
    "                if i == 0:\n",
    "                    continue\n",
    "                if labelval > max:\n",
    "                    max = labelval\n",
    "                    maxi = i\n",
    "            if maxi != 0:\n",
    "                label.append(i2label_dict[maxi].upper())\n",
    "        leng = len(test_documents[j])\n",
    "        labels.append(label[-leng:])\n",
    "\n",
    "    return labels"
   ]
  },
  {
   "cell_type": "code",
   "execution_count": 20,
   "metadata": {},
   "outputs": [],
   "source": [
    "y_test_preds = rnn_model.predict(X_test_padded)"
   ]
  },
  {
   "cell_type": "code",
   "execution_count": 21,
   "metadata": {},
   "outputs": [],
   "source": [
    "y_test_inverted_preds = invert_labels(y_test_preds)"
   ]
  },
  {
   "cell_type": "code",
   "execution_count": 22,
   "metadata": {},
   "outputs": [],
   "source": [
    "import pandas as pd\n",
    "import numpy as np\n",
    "np.set_string_function(lambda x: repr(list(x)), repr=False)\n",
    "np.set_printoptions(linewidth=np.inf)\n",
    "\n",
    "result_df = pd.DataFrame({'label': y_test_inverted_preds}).reset_index()\n",
    "result_df.to_csv('pred.txt', index=False)"
   ]
  }
 ],
 "metadata": {
  "interpreter": {
   "hash": "582de25ef4397959f951bb81f5b8f35d7973a3abc47c9dbb6cc90c83e78c3c34"
  },
  "kernelspec": {
   "display_name": "Python 3.8.11 ('base')",
   "language": "python",
   "name": "python3"
  },
  "language_info": {
   "codemirror_mode": {
    "name": "ipython",
    "version": 3
   },
   "file_extension": ".py",
   "mimetype": "text/x-python",
   "name": "python",
   "nbconvert_exporter": "python",
   "pygments_lexer": "ipython3",
   "version": "3.8.11"
  },
  "orig_nbformat": 4
 },
 "nbformat": 4,
 "nbformat_minor": 2
}
