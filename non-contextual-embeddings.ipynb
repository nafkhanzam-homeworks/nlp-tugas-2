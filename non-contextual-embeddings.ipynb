{
 "cells": [
  {
   "cell_type": "code",
   "execution_count": 1,
   "metadata": {},
   "outputs": [],
   "source": [
    "import numpy as np\n",
    "import logging\n",
    "from gensim.models import Word2Vec\n",
    "from sklearn import preprocessing\n",
    "from sklearn.model_selection import train_test_split\n",
    "from sklearn.metrics import accuracy_score, f1_score, precision_score, recall_score\n",
    "from sklearn.svm import SVC\n",
    "from sklearn.neighbors import KNeighborsClassifier\n",
    "from sklearn.neural_network import MLPClassifier\n",
    "from sklearn.tree import DecisionTreeClassifier\n",
    "from sklearn.naive_bayes import GaussianNB\n",
    "from sklearn.ensemble import RandomForestClassifier\n",
    "\n",
    "from nergrit_non_contextual_embeddings import NergritNonContextualEmbeddings\n",
    "\n",
    "\n",
    "app = NergritNonContextualEmbeddings()"
   ]
  },
  {
   "cell_type": "code",
   "execution_count": 2,
   "metadata": {},
   "outputs": [
    {
     "name": "stdout",
     "output_type": "stream",
     "text": [
      "saving result to cache '.cache/nergrit:train_df.pkl'\n",
      "saving result to cache '.cache/nergrit:validation_df.pkl'\n",
      "saving result to cache '.cache/nergrit:test_series.pkl'\n",
      "saving result to cache '.cache/nergrit:test_sentence_series.pkl'\n",
      "saving result to cache '.cache/nergrit:uncased_vocab_series.pkl'\n"
     ]
    }
   ],
   "source": [
    "app.init_data(ignore_case=True)"
   ]
  },
  {
   "cell_type": "code",
   "execution_count": 3,
   "metadata": {},
   "outputs": [
    {
     "name": "stdout",
     "output_type": "stream",
     "text": [
      "saving result to cache '.cache/nergrit-non-contextual-embeddings:word2vec_model.pkl'\n"
     ]
    }
   ],
   "source": [
    "w2vmodel = app.build_word2vec_model()"
   ]
  },
  {
   "cell_type": "code",
   "execution_count": 4,
   "metadata": {},
   "outputs": [
    {
     "name": "stdout",
     "output_type": "stream",
     "text": [
      "saving result to cache '.cache/nergrit-non-contextual-embeddings:train_tags.pkl'\n",
      "saving result to cache '.cache/nergrit-non-contextual-embeddings:word2vec_train.pkl'\n",
      "saving result to cache '.cache/nergrit-non-contextual-embeddings:validation_tags.pkl'\n",
      "saving result to cache '.cache/nergrit-non-contextual-embeddings:word2vec_validation.pkl'\n"
     ]
    }
   ],
   "source": [
    "X_train, y_train = app.build_Xy_train(w2vmodel)\n",
    "X_validation, y_validation = app.build_Xy_validation(w2vmodel)"
   ]
  },
  {
   "cell_type": "code",
   "execution_count": 5,
   "metadata": {},
   "outputs": [
    {
     "name": "stdout",
     "output_type": "stream",
     "text": [
      "(56210, 100) (56210,)\n",
      "(6983, 100) (6983,)\n"
     ]
    }
   ],
   "source": [
    "print(np.shape(X_train), np.shape(y_train))\n",
    "print(np.shape(X_validation), np.shape(y_validation))"
   ]
  },
  {
   "cell_type": "code",
   "execution_count": 6,
   "metadata": {},
   "outputs": [],
   "source": [
    "clf = GaussianNB()"
   ]
  },
  {
   "cell_type": "code",
   "execution_count": 7,
   "metadata": {},
   "outputs": [
    {
     "data": {
      "text/plain": [
       "GaussianNB()"
      ]
     },
     "execution_count": 7,
     "metadata": {},
     "output_type": "execute_result"
    }
   ],
   "source": [
    "clf.fit(X_train, y_train)"
   ]
  },
  {
   "cell_type": "code",
   "execution_count": 8,
   "metadata": {},
   "outputs": [],
   "source": [
    "y_pred = clf.predict(X_validation)"
   ]
  },
  {
   "cell_type": "code",
   "execution_count": 9,
   "metadata": {},
   "outputs": [],
   "source": [
    "le = app.get_tags_label_encoder()\n",
    "pred_labels = le.inverse_transform(y_pred)"
   ]
  },
  {
   "cell_type": "code",
   "execution_count": 10,
   "metadata": {},
   "outputs": [
    {
     "name": "stdout",
     "output_type": "stream",
     "text": [
      "Accuracy = 0.80\n",
      "Precision = 0.42\n",
      "Recall = 0.21\n",
      "F1 = 0.23\n"
     ]
    }
   ],
   "source": [
    "accuracy = accuracy_score(y_validation, y_pred)\n",
    "precision = precision_score(y_validation, y_pred, average='macro')\n",
    "recall = recall_score(y_validation, y_pred, average='macro')\n",
    "f1 = f1_score(y_validation, y_pred, average='macro')\n",
    "\n",
    "print(\"Accuracy = {0:.2f}\".format(accuracy))\n",
    "print(\"Precision = {0:.2f}\".format(precision))\n",
    "print(\"Recall = {0:.2f}\".format(recall))\n",
    "print(\"F1 = {0:.2f}\".format(f1))"
   ]
  }
 ],
 "metadata": {
  "interpreter": {
   "hash": "582de25ef4397959f951bb81f5b8f35d7973a3abc47c9dbb6cc90c83e78c3c34"
  },
  "kernelspec": {
   "display_name": "Python 3.8.11 ('base')",
   "language": "python",
   "name": "python3"
  },
  "language_info": {
   "codemirror_mode": {
    "name": "ipython",
    "version": 3
   },
   "file_extension": ".py",
   "mimetype": "text/x-python",
   "name": "python",
   "nbconvert_exporter": "python",
   "pygments_lexer": "ipython3",
   "version": "3.8.11"
  },
  "orig_nbformat": 4
 },
 "nbformat": 4,
 "nbformat_minor": 2
}
